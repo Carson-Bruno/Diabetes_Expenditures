{
 "cells": [
  {
   "cell_type": "code",
   "execution_count": null,
   "id": "561c0ed6",
   "metadata": {},
   "outputs": [],
   "source": [
    "import psycopg2\n",
    "import pandas as pd\n",
    "import numpy as np\n",
    "import regex as re\n",
    "from pathlib import Path\n",
    "import glob\n"
   ]
  },
  {
   "cell_type": "markdown",
   "id": "2c94706b",
   "metadata": {},
   "source": [
    "## Load Data"
   ]
  },
  {
   "cell_type": "code",
   "execution_count": 180,
   "id": "731975b6",
   "metadata": {},
   "outputs": [
    {
     "data": {
      "text/plain": [
       "{'19': {'conditions': WindowsPath('data/conditions_19.csv'),\n",
       "  'er': WindowsPath('data/er_19.csv'),\n",
       "  'fyc': WindowsPath('data/fyc_19.csv'),\n",
       "  'home': WindowsPath('data/home_19.csv'),\n",
       "  'inpatient': WindowsPath('data/inpatient_19.csv'),\n",
       "  'office': WindowsPath('data/office_19.csv'),\n",
       "  'outpatient': WindowsPath('data/outpatient_19.csv'),\n",
       "  'prescriptions': WindowsPath('data/prescriptions_19.csv')},\n",
       " '20': {'conditions': WindowsPath('data/conditions_20.csv'),\n",
       "  'er': WindowsPath('data/er_20.csv'),\n",
       "  'fyc': WindowsPath('data/fyc_20.csv'),\n",
       "  'home': WindowsPath('data/home_20.csv'),\n",
       "  'inpatient': WindowsPath('data/inpatient_20.csv'),\n",
       "  'office': WindowsPath('data/office_20.csv'),\n",
       "  'outpatient': WindowsPath('data/outpatient_20.csv'),\n",
       "  'prescriptions': WindowsPath('data/prescriptions_20.csv')},\n",
       " '21': {'conditions': WindowsPath('data/conditions_21.csv'),\n",
       "  'er': WindowsPath('data/er_21.csv'),\n",
       "  'fyc': WindowsPath('data/fyc_21.csv'),\n",
       "  'home': WindowsPath('data/home_21.csv'),\n",
       "  'inpatient': WindowsPath('data/inpatient_21.csv'),\n",
       "  'office': WindowsPath('data/office_21.csv'),\n",
       "  'outpatient': WindowsPath('data/outpatient_21.csv'),\n",
       "  'prescriptions': WindowsPath('data/prescriptions_21.csv')},\n",
       " '22': {'conditions': WindowsPath('data/conditions_22.csv'),\n",
       "  'er': WindowsPath('data/er_22.csv'),\n",
       "  'fyc': WindowsPath('data/fyc_22.csv'),\n",
       "  'home': WindowsPath('data/home_22.csv'),\n",
       "  'inpatient': WindowsPath('data/inpatient_22.csv'),\n",
       "  'office': WindowsPath('data/office_22.csv'),\n",
       "  'outpatient': WindowsPath('data/outpatient_22.csv'),\n",
       "  'prescriptions': WindowsPath('data/prescriptions_22.csv')},\n",
       " '23': {'conditions': WindowsPath('data/conditions_23.csv'),\n",
       "  'er': WindowsPath('data/er_23.csv'),\n",
       "  'fyc': WindowsPath('data/fyc_23.csv'),\n",
       "  'home': WindowsPath('data/home_23.csv'),\n",
       "  'inpatient': WindowsPath('data/inpatient_23.csv'),\n",
       "  'office': WindowsPath('data/office_23.csv'),\n",
       "  'outpatient': WindowsPath('data/outpatient_23.csv'),\n",
       "  'prescriptions': WindowsPath('data/prescriptions_23.csv')}}"
      ]
     },
     "execution_count": 180,
     "metadata": {},
     "output_type": "execute_result"
    }
   ],
   "source": [
    "def file_paths_and_names(year):\n",
    "    p = Path('data')\n",
    "    files = list(p.glob(f\"*_{year}.csv\"))\n",
    "    file_names = [re.findall(r'[a-zA-Z]+', i.stem)[0] for i in files]\n",
    "    # print(file_names)\n",
    "    file_paths = [i for i in files]\n",
    "    return file_names,file_paths\n",
    "years = ['19', '20', '21', '22', '23']\n",
    "files_by_year = {year: dict(zip(*file_paths_and_names(year))) for year in years}\n",
    "files_by_year"
   ]
  },
  {
   "cell_type": "code",
   "execution_count": null,
   "id": "41b225eb",
   "metadata": {},
   "outputs": [],
   "source": [
    "def load_prescription_file(file,year):\n",
    "    tot_exp = 'RXXP'+year+'X'\n",
    "    oop_doc = 'RXSF'+year+'X'\n",
    "    mdcare_doc = 'RXMR'+year+'X'\n",
    "    mdcaid_doc = 'RXMD'+year+'X'\n",
    "    priv_doc = 'RXPV'+year+'X'\n",
    "    WT = 'PERWT'+year+'F'\n",
    "    return pd.read_csv(file,usecols=['DUPERSID','RXRECIDX','LINKIDX','TC1S1_1','DIABEQUIP',tot_exp,oop_doc,mdcare_doc,mdcaid_doc,priv_doc,WT])\n"
   ]
  },
  {
   "cell_type": "code",
   "execution_count": 171,
   "id": "6399e00f",
   "metadata": {},
   "outputs": [],
   "source": [
    "def load_conditions_file(file,year):\n",
    "    WT = 'PERWT'+year+'F'\n",
    "    return pd.read_csv(file,usecols = ['DUPERSID','CONDIDX','ICD10CDX',WT])"
   ]
  },
  {
   "cell_type": "code",
   "execution_count": 188,
   "id": "63067523",
   "metadata": {},
   "outputs": [],
   "source": [
    "def load_inpatient_file(file,year):\n",
    "    tot_exp = 'IPXP'+year+'X'\n",
    "    oop_doc = 'IPDSF'+year+'X'\n",
    "    oop_fac = 'IPFSF'+year+'X'\n",
    "    mdcare_doc = 'IPDMR'+year+'X'\n",
    "    mdcaid_doc = 'IPDMD'+year+'X'\n",
    "    priv_doc = 'IPDPV'+year+'X'\n",
    "    mdcare_fac = 'IPFMR'+year+'X'\n",
    "    mdcaid_fac = 'IPFMD'+year+'X'\n",
    "    priv_fac = 'IPFPV'+year+'X'\n",
    "    WT = 'PERWT'+year+'F'\n",
    "    return pd.read_csv(file,usecols=['DUPERSID','EVNTIDX',tot_exp,oop_doc,oop_fac,mdcare_doc,mdcare_fac,mdcaid_doc,mdcaid_fac,priv_doc,priv_fac,WT])"
   ]
  },
  {
   "cell_type": "code",
   "execution_count": 38,
   "id": "628fc180",
   "metadata": {},
   "outputs": [],
   "source": [
    "def load_outpatient_file(file,year):\n",
    "    tot_exp = 'OPXP'+year+'X'\n",
    "    oop_doc = 'OPDSF'+year+'X'\n",
    "    oop_fac = 'OPFSF'+year+'X'\n",
    "    mdcare_doc = 'OPDMR'+year+'X'\n",
    "    mdcaid_doc = 'OPDMD'+year+'X'\n",
    "    priv_doc = 'OPDPV'+year+'X'\n",
    "    mdcare_fac = 'OPFMR'+year+'X'\n",
    "    mdcaid_fac = 'OPFMD'+year+'X'\n",
    "    priv_fac = 'OPFPV'+year+'X'\n",
    "    WT = 'PERWT'+year+'F'\n",
    "    return pd.read_csv(file,usecols=['DUPERSID','EVNTIDX',tot_exp,oop_doc,oop_fac,mdcare_doc,mdcare_fac,mdcaid_doc,mdcaid_fac,priv_doc,priv_fac,WT])\n"
   ]
  },
  {
   "cell_type": "code",
   "execution_count": 182,
   "id": "5e0d5df0",
   "metadata": {},
   "outputs": [],
   "source": [
    "def load_er_file(file,year):\n",
    "    tot_exp = 'ERXP'+year+'X'\n",
    "    oop_doc = 'ERDSF'+year+'X'\n",
    "    oop_fac = 'ERFSF'+year+'X'\n",
    "    mdcare_doc = 'ERDMR'+year+'X'\n",
    "    mdcaid_doc = 'ERDMD'+year+'X'\n",
    "    priv_doc = 'ERDPV'+year+'X'\n",
    "    mdcare_fac = 'ERFMR'+year+'X'\n",
    "    mdcaid_fac = 'ERFMD'+year+'X'\n",
    "    priv_fac = 'ERFPV'+year+'X'\n",
    "    WT = 'PERWT'+year+'F'\n",
    "    return pd.read_csv(file,usecols=['DUPERSID','EVNTIDX',tot_exp,oop_doc,oop_fac,mdcare_doc,mdcare_fac,mdcaid_doc,mdcaid_fac,priv_doc,priv_fac,WT])"
   ]
  },
  {
   "cell_type": "code",
   "execution_count": 184,
   "id": "3cfde308",
   "metadata": {},
   "outputs": [],
   "source": [
    "def load_office_file(file,year):\n",
    "    tot_exp = 'OBXP'+year+'X'\n",
    "    oop_doc = 'OBSF'+year+'X'\n",
    "    mdcare_doc = 'OBMR'+year+'X'\n",
    "    mdcaid_doc = 'OBMD'+year+'X'\n",
    "    priv_doc = 'OBPV'+year+'X'\n",
    "    WT = 'PERWT'+year+'F'\n",
    "    return pd.read_csv(file,usecols=['DUPERSID','EVNTIDX',tot_exp,oop_doc,mdcare_doc,mdcaid_doc,priv_doc,WT])"
   ]
  },
  {
   "cell_type": "code",
   "execution_count": 185,
   "id": "70a4dd96",
   "metadata": {},
   "outputs": [],
   "source": [
    "def load_home_file(file,year):\n",
    "    tot_exp = 'HHXP'+year+'X'\n",
    "    oop_doc = 'HHSF'+year+'X'\n",
    "    mdcare_doc = 'HHMR'+year+'X'\n",
    "    mdcaid_doc = 'HHMD'+year+'X'\n",
    "    priv_doc = 'HHPV'+year+'X'\n",
    "    WT = 'PERWT'+year+'F'\n",
    "    return pd.read_csv(file,usecols=['DUPERSID','EVNTIDX',tot_exp,oop_doc,mdcare_doc,mdcaid_doc,priv_doc,WT])   "
   ]
  },
  {
   "cell_type": "code",
   "execution_count": 106,
   "id": "1a1929f8",
   "metadata": {},
   "outputs": [],
   "source": [
    "def rename_cols(df):\n",
    "    old_cols = df.columns\n",
    "    new_cols = [re.sub('[0-9]','',i) for i in old_cols]\n",
    "    return df.rename(columns=dict(zip(old_cols,new_cols)))"
   ]
  },
  {
   "cell_type": "code",
   "execution_count": null,
   "id": "5c2acb5f",
   "metadata": {},
   "outputs": [],
   "source": [
    "#Condition index and person weight for diabetes \n",
    "def condidx_diabetes(df):\n",
    "    diab_df = df[df['ICDCDX']=='E11'][['CONDIDX','PERWTF']]\n",
    "    diab_df['CONDIDX'] = diab_df['CONDIDX'].astype(str)\n",
    "    return diab_df\n"
   ]
  },
  {
   "cell_type": "markdown",
   "id": "e78ad926",
   "metadata": {},
   "source": [
    "## outpatient"
   ]
  },
  {
   "cell_type": "code",
   "execution_count": null,
   "id": "ac000ca8",
   "metadata": {},
   "outputs": [],
   "source": [
    "def create_outpatient_diabetes(out_df,cond_df):\n",
    "    #find condition associated with event\n",
    "    out_df['CONDIDX'] = out_df['EVNTIDX'].astype(str).str[:13]\n",
    "    #outptient event associated with diabetes\n",
    "    outpatient_diabetes = pd.merge(left=cond_df,right=out_df,on=['CONDIDX','PERWTF'])\n",
    "    outpatient_diabetes[['DUPERSID','EVNTIDX']] = outpatient_diabetes[['DUPERSID','EVNTIDX']].astype(str)\n",
    "    return outpatient_diabetes"
   ]
  },
  {
   "cell_type": "code",
   "execution_count": 86,
   "id": "8f006ea4",
   "metadata": {},
   "outputs": [],
   "source": [
    "def outpatient_diab_person_sum(out_df):\n",
    "    payment_columns = ['OPXPX','OPFSFX','OPFMRX','OPFMDX','OPFPVX','OPDSFX','OPDMRX','OPDMDX','OPDPVX']\n",
    "    sum_payment_cols = dict(zip(payment_columns,['sum' for i in range(len(payment_columns))]))\n",
    "    sum_outpatient_payments = out_df.groupby('DUPERSID').agg(sum_payment_cols)\n",
    "    sum_outpatient_payments= pd.merge(left = sum_outpatient_payments, right= out_df[['DUPERSID','PERWTF']].drop_duplicates(), on='DUPERSID')\n",
    "    sum_outpatient_payments[payment_columns] = sum_outpatient_payments[payment_columns].multiply(sum_outpatient_payments['PERWTF'],axis='index')\n",
    "    return sum_outpatient_payments"
   ]
  },
  {
   "cell_type": "markdown",
   "id": "c390536c",
   "metadata": {},
   "source": [
    "## Prescriptions"
   ]
  },
  {
   "cell_type": "code",
   "execution_count": 194,
   "id": "bb29ee95",
   "metadata": {},
   "outputs": [],
   "source": [
    "def load_all_files(year):\n",
    "    cond =  rename_cols(load_conditions_file(files_by_year[year]['conditions'],year))\n",
    "    out = rename_cols(load_outpatient_file(files_by_year[year]['outpatient'],year))\n",
    "    prescription =  rename_cols(load_prescription_file(files_by_year[year]['prescriptions'],year)) \n",
    "    inpatient =  rename_cols(load_inpatient_file(files_by_year[year]['inpatient'],year))    \n",
    "    home =  rename_cols(load_home_file(files_by_year[year]['home'],year))   \n",
    "    office =  rename_cols(load_office_file(files_by_year[year]['office'],year))\n",
    "    er =  rename_cols(load_er_file(files_by_year[year]['er'],year)) \n",
    "    return [cond,out,prescription,inpatient,home,office,er]\n",
    "      "
   ]
  },
  {
   "cell_type": "code",
   "execution_count": 198,
   "id": "1749868e",
   "metadata": {},
   "outputs": [],
   "source": [
    "dfs_by_year = {}\n",
    "df_names = ['cond','out','prescription','inpatient','home','office','er']\n",
    "for year in years:\n",
    "    dfs_by_year[year] = dict(zip(df_names,load_all_files(year)))\n"
   ]
  },
  {
   "cell_type": "code",
   "execution_count": 205,
   "id": "dbfd2338",
   "metadata": {},
   "outputs": [],
   "source": [
    "def get_diabetes_conditions(year):\n",
    "    return condidx_diabetes(dfs_by_year[year]['cond'])\n",
    "cond_diab = {}\n",
    "for year in years:\n",
    "    cond_diab[year]=get_diabetes_conditions(year)"
   ]
  },
  {
   "cell_type": "code",
   "execution_count": 206,
   "id": "70e3a58e",
   "metadata": {},
   "outputs": [],
   "source": [
    "def weighted_outpatient(year):\n",
    "    #outpatient\n",
    "    out_diab = create_outpatient_diabetes(dfs_by_year[year]['out'],cond_diab[year])\n",
    "    weighted_outpatient_cost_pp = outpatient_diab_person_sum(out_diab)\n",
    "    return weighted_outpatient_cost_pp\n",
    "outpatient_dfs = []\n",
    "for year in years:\n",
    "    df = weighted_outpatient(year)\n",
    "    df['year'] = '20'+year\n",
    "    outpatient_dfs.append(df)\n",
    "weighted_outpatient_years = pd.concat(outpatient_dfs,ignore_index=True)\n",
    "weighted_outpatient_years.to_csv('data/processed_data/weighted_outpatient_sums.csv',index=False)"
   ]
  }
 ],
 "metadata": {
  "kernelspec": {
   "display_name": "Python 3",
   "language": "python",
   "name": "python3"
  },
  "language_info": {
   "codemirror_mode": {
    "name": "ipython",
    "version": 3
   },
   "file_extension": ".py",
   "mimetype": "text/x-python",
   "name": "python",
   "nbconvert_exporter": "python",
   "pygments_lexer": "ipython3",
   "version": "3.12.10"
  }
 },
 "nbformat": 4,
 "nbformat_minor": 5
}
