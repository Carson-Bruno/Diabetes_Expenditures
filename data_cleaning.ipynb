{
 "cells": [
  {
   "cell_type": "code",
   "execution_count": 100,
   "id": "561c0ed6",
   "metadata": {},
   "outputs": [],
   "source": [
    "import pandas as pd\n",
    "import numpy as np\n",
    "import regex as re\n",
    "from pathlib import Path\n",
    "import glob\n"
   ]
  },
  {
   "cell_type": "markdown",
   "id": "2c94706b",
   "metadata": {},
   "source": [
    "## Load Data"
   ]
  },
  {
   "cell_type": "code",
   "execution_count": 101,
   "id": "731975b6",
   "metadata": {},
   "outputs": [],
   "source": [
    "def file_paths_and_names(year):\n",
    "    p = Path('data')\n",
    "    files = list(p.glob(f\"*_{year}.csv\"))\n",
    "    file_names = [re.findall(r'[a-zA-Z]+', i.stem)[0] for i in files]\n",
    "    # print(file_names)\n",
    "    file_paths = [i for i in files]\n",
    "    return file_names,file_paths\n",
    "years = ['19', '20', '21', '22', '23']\n",
    "files_by_year = {year: dict(zip(*file_paths_and_names(year))) for year in years}\n"
   ]
  },
  {
   "cell_type": "code",
   "execution_count": 102,
   "id": "99d81752",
   "metadata": {},
   "outputs": [],
   "source": [
    "def load_eventlink_file(file,year):\n",
    "    return pd.read_csv(file,usecols=['DUPERSID','CONDIDX','EVNTIDX','EVENTYPE'])"
   ]
  },
  {
   "cell_type": "code",
   "execution_count": 103,
   "id": "41b225eb",
   "metadata": {},
   "outputs": [],
   "source": [
    "def load_prescription_file(file,year):\n",
    "    tot_exp = 'RXXP'+year+'X'\n",
    "    oop_doc = 'RXSF'+year+'X'\n",
    "    mdcare_doc = 'RXMR'+year+'X'\n",
    "    mdcaid_doc = 'RXMD'+year+'X'\n",
    "    priv_doc = 'RXPV'+year+'X'\n",
    "    WT = 'PERWT'+year+'F'\n",
    "    return pd.read_csv(file,usecols=['DUPERSID','RXRECIDX','LINKIDX','TC1S1_1','DIABEQUIP',tot_exp,oop_doc,mdcare_doc,mdcaid_doc,priv_doc,WT])\n"
   ]
  },
  {
   "cell_type": "code",
   "execution_count": 104,
   "id": "6399e00f",
   "metadata": {},
   "outputs": [],
   "source": [
    "def load_conditions_file(file,year):\n",
    "    WT = 'PERWT'+year+'F'\n",
    "    return pd.read_csv(file,usecols = ['DUPERSID','CONDIDX','ICD10CDX',WT])"
   ]
  },
  {
   "cell_type": "code",
   "execution_count": 105,
   "id": "63067523",
   "metadata": {},
   "outputs": [],
   "source": [
    "def load_inpatient_file(file,year):\n",
    "    tot_exp = 'IPXP'+year+'X'\n",
    "    oop_doc = 'IPDSF'+year+'X'\n",
    "    oop_fac = 'IPFSF'+year+'X'\n",
    "    mdcare_doc = 'IPDMR'+year+'X'\n",
    "    mdcaid_doc = 'IPDMD'+year+'X'\n",
    "    priv_doc = 'IPDPV'+year+'X'\n",
    "    mdcare_fac = 'IPFMR'+year+'X'\n",
    "    mdcaid_fac = 'IPFMD'+year+'X'\n",
    "    priv_fac = 'IPFPV'+year+'X'\n",
    "    WT = 'PERWT'+year+'F'\n",
    "    return pd.read_csv(file,usecols=['DUPERSID','EVNTIDX',tot_exp,oop_doc,oop_fac,mdcare_doc,mdcare_fac,mdcaid_doc,mdcaid_fac,priv_doc,priv_fac,WT])"
   ]
  },
  {
   "cell_type": "code",
   "execution_count": 106,
   "id": "628fc180",
   "metadata": {},
   "outputs": [],
   "source": [
    "def load_outpatient_file(file,year):\n",
    "    tot_exp = 'OPXP'+year+'X'\n",
    "    oop_doc = 'OPDSF'+year+'X'\n",
    "    oop_fac = 'OPFSF'+year+'X'\n",
    "    mdcare_doc = 'OPDMR'+year+'X'\n",
    "    mdcaid_doc = 'OPDMD'+year+'X'\n",
    "    priv_doc = 'OPDPV'+year+'X'\n",
    "    mdcare_fac = 'OPFMR'+year+'X'\n",
    "    mdcaid_fac = 'OPFMD'+year+'X'\n",
    "    priv_fac = 'OPFPV'+year+'X'\n",
    "    WT = 'PERWT'+year+'F'\n",
    "    return pd.read_csv(file,usecols=['DUPERSID','EVNTIDX',tot_exp,oop_doc,oop_fac,mdcare_doc,mdcare_fac,mdcaid_doc,mdcaid_fac,priv_doc,priv_fac,WT])\n"
   ]
  },
  {
   "cell_type": "code",
   "execution_count": 107,
   "id": "5e0d5df0",
   "metadata": {},
   "outputs": [],
   "source": [
    "def load_er_file(file,year):\n",
    "    tot_exp = 'ERXP'+year+'X'\n",
    "    oop_doc = 'ERDSF'+year+'X'\n",
    "    oop_fac = 'ERFSF'+year+'X'\n",
    "    mdcare_doc = 'ERDMR'+year+'X'\n",
    "    mdcaid_doc = 'ERDMD'+year+'X'\n",
    "    priv_doc = 'ERDPV'+year+'X'\n",
    "    mdcare_fac = 'ERFMR'+year+'X'\n",
    "    mdcaid_fac = 'ERFMD'+year+'X'\n",
    "    priv_fac = 'ERFPV'+year+'X'\n",
    "    WT = 'PERWT'+year+'F'\n",
    "    return pd.read_csv(file,usecols=['DUPERSID','EVNTIDX',tot_exp,oop_doc,oop_fac,mdcare_doc,mdcare_fac,mdcaid_doc,mdcaid_fac,priv_doc,priv_fac,WT])"
   ]
  },
  {
   "cell_type": "code",
   "execution_count": 108,
   "id": "3cfde308",
   "metadata": {},
   "outputs": [],
   "source": [
    "def load_office_file(file,year):\n",
    "    tot_exp = 'OBXP'+year+'X'\n",
    "    oop_doc = 'OBSF'+year+'X'\n",
    "    mdcare_doc = 'OBMR'+year+'X'\n",
    "    mdcaid_doc = 'OBMD'+year+'X'\n",
    "    priv_doc = 'OBPV'+year+'X'\n",
    "    WT = 'PERWT'+year+'F'\n",
    "    return pd.read_csv(file,usecols=['DUPERSID','EVNTIDX',tot_exp,oop_doc,mdcare_doc,mdcaid_doc,priv_doc,WT])"
   ]
  },
  {
   "cell_type": "code",
   "execution_count": 109,
   "id": "70a4dd96",
   "metadata": {},
   "outputs": [],
   "source": [
    "def load_home_file(file,year):\n",
    "    tot_exp = 'HHXP'+year+'X'\n",
    "    oop_doc = 'HHSF'+year+'X'\n",
    "    mdcare_doc = 'HHMR'+year+'X'\n",
    "    mdcaid_doc = 'HHMD'+year+'X'\n",
    "    priv_doc = 'HHPV'+year+'X'\n",
    "    WT = 'PERWT'+year+'F'\n",
    "    return pd.read_csv(file,usecols=['DUPERSID','EVNTIDX',tot_exp,oop_doc,mdcare_doc,mdcaid_doc,priv_doc,WT])   "
   ]
  },
  {
   "cell_type": "code",
   "execution_count": 153,
   "id": "55ecb6b0",
   "metadata": {},
   "outputs": [],
   "source": [
    "def load_fyc(file,year):\n",
    "    tot_exp = 'TOTEXP'+year\n",
    "    WT = 'PERWT'+year+'F'\n",
    "    return pd.read_csv(file,usecols=['DUPERSID',tot_exp,WT])"
   ]
  },
  {
   "cell_type": "code",
   "execution_count": 111,
   "id": "1a1929f8",
   "metadata": {},
   "outputs": [],
   "source": [
    "def rename_cols(df):\n",
    "    old_cols = df.columns\n",
    "    new_cols = [re.sub('[0-9]','',i) for i in old_cols]\n",
    "    return df.rename(columns=dict(zip(old_cols,new_cols)))"
   ]
  },
  {
   "cell_type": "code",
   "execution_count": 112,
   "id": "80c19eec",
   "metadata": {},
   "outputs": [],
   "source": [
    "def load_all_files(year):\n",
    "    cond =  rename_cols(load_conditions_file(files_by_year[year]['conditions'],year))\n",
    "    out = rename_cols(load_outpatient_file(files_by_year[year]['outpatient'],year))\n",
    "    prescription =  rename_cols(load_prescription_file(files_by_year[year]['prescriptions'],year)) \n",
    "    inpatient =  rename_cols(load_inpatient_file(files_by_year[year]['inpatient'],year))    \n",
    "    home =  rename_cols(load_home_file(files_by_year[year]['home'],year))   \n",
    "    office =  rename_cols(load_office_file(files_by_year[year]['office'],year))\n",
    "    er =  rename_cols(load_er_file(files_by_year[year]['er'],year)) \n",
    "    eventlink = load_eventlink_file(files_by_year[year]['eventlink'],year)\n",
    "    fyc = rename_cols(load_fyc(files_by_year[year]['fyc'],year))\n",
    "    return [cond,out,prescription,inpatient,home,office,er,eventlink,fyc]\n",
    "      "
   ]
  },
  {
   "cell_type": "code",
   "execution_count": 154,
   "id": "760768a6",
   "metadata": {},
   "outputs": [],
   "source": [
    "#load all files into dataframes and store in dictionary by year and event type \n",
    "dfs_by_year = {}\n",
    "df_names = ['cond','out','prescription','inpatient','home','office','er','eventlink','fyc']\n",
    "for year in years:\n",
    "    dfs_by_year[year] = dict(zip(df_names,load_all_files(year)))\n"
   ]
  },
  {
   "cell_type": "code",
   "execution_count": 120,
   "id": "bc55d261",
   "metadata": {},
   "outputs": [],
   "source": [
    "def clean_payments(df,year,event):\n",
    "    col_sub = ['XPX','SFX','MRX','MDX','PVX']\n",
    "    all_cols = dfs_by_year[year][event].columns\n",
    "    payment_columns = list(all_cols[all_cols.str.contains('|'.join(col_sub))])    \n",
    "    df = df[(df[payment_columns]>=0).all(1)]\n",
    "    return df "
   ]
  },
  {
   "cell_type": "markdown",
   "id": "a6c5c66e",
   "metadata": {},
   "source": [
    "## conditions"
   ]
  },
  {
   "cell_type": "code",
   "execution_count": null,
   "id": "b23415f6",
   "metadata": {},
   "outputs": [],
   "source": [
    "#Condition index and person weight for diabetes \n",
    "def condidx_diabetes(df):\n",
    "    diab_df = df[df['ICDCDX']=='E11'][['CONDIDX','PERWTF']]\n",
    "    diab_df['CONDIDX'] = diab_df['CONDIDX'].astype(str)\n",
    "    return diab_df\n"
   ]
  },
  {
   "cell_type": "code",
   "execution_count": 52,
   "id": "63d2c3fc",
   "metadata": {},
   "outputs": [],
   "source": [
    "def get_diabetes_conditions(year):\n",
    "    return condidx_diabetes(dfs_by_year[year]['cond'])\n",
    "cond_diab = {}\n",
    "for year in years:\n",
    "    cond_diab[year]=get_diabetes_conditions(year)"
   ]
  },
  {
   "cell_type": "markdown",
   "id": "e78ad926",
   "metadata": {},
   "source": [
    "## Process all events"
   ]
  },
  {
   "cell_type": "code",
   "execution_count": 53,
   "id": "74bdf061",
   "metadata": {},
   "outputs": [],
   "source": [
    "def create_event_diabetes(event,year):\n",
    "    df = dfs_by_year[year][event]\n",
    "    evntlnk = dfs_by_year[year]['eventlink']\n",
    "    evntlnk['EVNTIDX'] = evntlnk['EVNTIDX'].astype(str)\n",
    "    evntlnk['CONDIDX'] = evntlnk['CONDIDX'].astype(str)\n",
    "    # return cond_diab[year]\n",
    "    #use eventlink file to link conditions and prescriptions \n",
    "    evn_diabetes = pd.merge(left=evntlnk,right=cond_diab[year],on=['CONDIDX'])\n",
    "    df['EVNTIDX'] = df['EVNTIDX'].astype(str)\n",
    "    diabetes = pd.merge(left=evn_diabetes,right=df,on=['EVNTIDX','DUPERSID','PERWTF'])\n",
    "    return diabetes\n"
   ]
  },
  {
   "cell_type": "code",
   "execution_count": 19,
   "id": "27ce02a2",
   "metadata": {},
   "outputs": [],
   "source": [
    "#links prescription dataset to diabetes conditions \n",
    "def create_prescription_diabetes(year):\n",
    "    evntlnk = dfs_by_year[year]['eventlink']\n",
    "    p_df = dfs_by_year[year]['prescription']\n",
    "    cond_df = cond_diab[year]\n",
    "    evntlnk['LINKIDX'] = evntlnk['EVNTIDX'].astype(str)\n",
    "    evntlnk['CONDIDX'] = evntlnk['CONDIDX'].astype(str)\n",
    "    \n",
    "    #use eventlink file to link conditions and prescriptions \n",
    "    evn_diabetes = pd.merge(left=evntlnk,right=cond_df,on=['CONDIDX'])\n",
    "    p_df['LINKIDX'] = p_df['LINKIDX'].astype(str)\n",
    "    p_diabetes = pd.merge(left=evn_diabetes,right=p_df,on=['LINKIDX','DUPERSID','PERWTF'])\n",
    "    return p_diabetes\n"
   ]
  },
  {
   "cell_type": "code",
   "execution_count": 118,
   "id": "9d74d278",
   "metadata": {},
   "outputs": [],
   "source": [
    "def event_diabetes_person_sum(event,year):\n",
    "    # create vent conditions\n",
    "    if event == 'prescription':\n",
    "        df = clean_payments(create_prescription_diabetes(year),year,event)\n",
    "    else:\n",
    "        df = clean_payments(create_event_diabetes(event,year),year,event)\n",
    "    #\n",
    "    col_sub = ['XPX','SFX','MRX','MDX','PVX']\n",
    "    all_cols = dfs_by_year[year][event].columns\n",
    "    payment_columns = list(all_cols[all_cols.str.contains('|'.join(col_sub))])\n",
    "    other_col_name = payment_columns[0][:2]+'OTX'\n",
    "    df[payment_columns] = df[payment_columns].apply(pd.to_numeric, errors='coerce')\n",
    "\n",
    "    sum_payments = df.groupby('DUPERSID',as_index=False)[payment_columns].sum()\n",
    "\n",
    "    total_col = all_cols[all_cols.str.contains('XPX')][0]\n",
    "    other_col_sub = ['SFX','MRX','MDX','PVX']\n",
    "    other_cols = all_cols[all_cols.str.contains('|'.join(other_col_sub))]\n",
    "    # sum_payments['other_payment'] = sum_payments.apply(create_other_payment(total_col,other_cols),axis=1)\n",
    "    sum_payments[other_col_name] = (sum_payments[total_col]-sum_payments[other_cols].sum(axis=1)).round(2)\n",
    "    # return sum_payments\n",
    "    sum_payments= pd.merge(left = sum_payments, right= df[['DUPERSID','PERWTF']].drop_duplicates(), on='DUPERSID')\n",
    "    payment_columns.append(other_col_name)\n",
    "    sum_payments[payment_columns] = sum_payments[payment_columns].multiply(sum_payments['PERWTF'],axis='index')\n",
    "\n",
    "    return sum_payments,payment_columns\n"
   ]
  },
  {
   "cell_type": "markdown",
   "id": "a1084d92",
   "metadata": {},
   "source": [
    "## Save Files"
   ]
  },
  {
   "cell_type": "code",
   "execution_count": 124,
   "id": "570ec2e2",
   "metadata": {},
   "outputs": [],
   "source": [
    "#save all prescriptions associated with diabetes for all years,unweighted to analyze by prescription type later \n",
    "prescription_dfs = []\n",
    "for year in years:\n",
    "    p_df = clean_payments(create_prescription_diabetes(year),year,'prescription')\n",
    "    other_columns= ['RXSFX','RXMRX','RXMDX','RXPVX']\n",
    "    p_df['RXOTX'] = (p_df['RXXPX']-p_df[other_columns].sum(axis=1)).round(2)\n",
    "    p_df['year'] = '20'+year\n",
    "    p_df.drop(columns = ['EVNTIDX'],inplace=True)\n",
    "    prescription_dfs.append(p_df)\n",
    "unweighted_prescription_years = pd.concat(prescription_dfs,ignore_index=True)\n",
    "unweighted_prescription_years.to_csv('data/processed_data/unweighted_diabetes_prescriptions.csv',index=False)"
   ]
  },
  {
   "cell_type": "code",
   "execution_count": 126,
   "id": "4d46c3d5",
   "metadata": {},
   "outputs": [],
   "source": [
    "#save weighted events and melt tables to tidy format \n",
    "events = ['out','inpatient','home','office','er','prescription']\n",
    "long_df = []\n",
    "for e in events:\n",
    "    event_dfs = []\n",
    "    for year in years:\n",
    "        event_df,payment_columns = event_diabetes_person_sum(e,year)\n",
    "        event_df['year'] = '20'+year\n",
    "        event_dfs.append(event_df)\n",
    "        l_df = pd.melt(event_df,id_vars=['DUPERSID','year','PERWTF'],value_vars=payment_columns)\n",
    "        long_df.append(l_df)\n",
    "    file_name = f\"weighted_{e}_sums\"\n",
    "    weighted_sums = pd.concat(event_dfs,ignore_index=True)\n",
    "    weighted_sums.to_csv(f'data/processed_data/{file_name}.csv',index=False)\n",
    "all_events = pd.concat(long_df,ignore_index=True)\n",
    "all_events.to_csv('data/processed_data/all_events.csv',index=False)\n",
    "    # print(file_name)\n",
    "    "
   ]
  },
  {
   "cell_type": "code",
   "execution_count": 155,
   "id": "9c07e45f",
   "metadata": {},
   "outputs": [],
   "source": [
    "#save full year files \n",
    "fyc_dfs = []\n",
    "for year in years:\n",
    "    f_df = dfs_by_year[year]['fyc']\n",
    "    f_df['year'] = '20'+year\n",
    "    fyc_dfs.append(f_df)\n",
    "all_fycs = pd.concat(fyc_dfs,ignore_index=True)\n",
    "all_fycs.to_csv('data/processed_data/all_fycs.csv',index=False)"
   ]
  },
  {
   "cell_type": "markdown",
   "id": "1fb38ac4",
   "metadata": {},
   "source": [
    "## Analysis\n"
   ]
  },
  {
   "cell_type": "markdown",
   "id": "6d704a27",
   "metadata": {},
   "source": [
    "### Prescription spending totals"
   ]
  },
  {
   "cell_type": "code",
   "execution_count": 152,
   "id": "f0967236",
   "metadata": {},
   "outputs": [
    {
     "data": {
      "text/plain": [
       "np.float64(424.8658610650584)"
      ]
     },
     "execution_count": 152,
     "metadata": {},
     "output_type": "execute_result"
    }
   ],
   "source": [
    "#testing prescription payment totals \n",
    "p_d = create_prescription_diabetes('19')\n",
    "# print(len(p_d))\n",
    "# p_d = p_d[p_d['TCS_']==215]\n",
    "p_d = p_d[p_d['DIABEQUIP']==1]\n",
    "col_sub = ['XPX','SFX','MRX','MDX','PVX']\n",
    "all_cols = p_d.columns\n",
    "payment_columns = all_cols[all_cols.str.contains('|'.join(col_sub))]\n",
    "p_d[payment_columns] = p_d[payment_columns].apply(pd.to_numeric, errors='coerce')\n",
    "\n",
    "sum_payments = p_d.groupby('DUPERSID',as_index=False)[payment_columns].sum()\n",
    "sum_payments= pd.merge(left = sum_payments, right= p_d[['DUPERSID','PERWTF','TCS_']].drop_duplicates(subset=['DUPERSID','PERWTF']), on='DUPERSID')\n",
    "sum_payments[payment_columns] = sum_payments[payment_columns].multiply(sum_payments['PERWTF'],axis='index')\n",
    "sum_payments\n",
    "\n",
    "sum_payments['RXXPX'].sum()/sum_payments['PERWTF'].sum()"
   ]
  },
  {
   "cell_type": "markdown",
   "id": "822937b4",
   "metadata": {},
   "source": [
    "### avg per person spending over all events"
   ]
  },
  {
   "cell_type": "code",
   "execution_count": 140,
   "id": "4e6cafbb",
   "metadata": {},
   "outputs": [
    {
     "data": {
      "text/plain": [
       "[np.float64(123949473363.08398)]"
      ]
     },
     "execution_count": 140,
     "metadata": {},
     "output_type": "execute_result"
    }
   ],
   "source": [
    "# e_d,payment_columns = event_diabetes_person_sum('office','22')\n",
    "events = ['prescription']\n",
    "df_22 = []\n",
    "wts_22 = []\n",
    "for event in events:\n",
    "    e_d,payment_columns = event_diabetes_person_sum(event,'22')\n",
    "    col_sub = ['XPX']\n",
    "    all_cols = e_d.columns\n",
    "    payment_columns = all_cols[all_cols.str.contains('|'.join(col_sub))]\n",
    "    sum_e = e_d[payment_columns].sum().sum()\n",
    "    wts_22.append(e_d[['DUPERSID','PERWTF']])\n",
    "    df_22.append(sum_e)\n",
    "# e_d.pivot(payment_columns)\n",
    "# pay = [i for i in payment_columns]\n",
    "# wts_22\n",
    "all_wts = pd.concat(wts_22,ignore_index=True)\n",
    "all_wts.drop_duplicates(subset=['DUPERSID'],inplace=True)\n",
    "sum_wts = all_wts['PERWTF'].sum()\n",
    "sum(df_22)/sum_wts\n",
    "df_22\n"
   ]
  },
  {
   "cell_type": "code",
   "execution_count": 30,
   "id": "8a6221a0",
   "metadata": {},
   "outputs": [
    {
     "data": {
      "text/plain": [
       "RXMDX    8.513709e+09\n",
       "RXSFX    7.175576e+09\n",
       "dtype: float64"
      ]
     },
     "execution_count": 30,
     "metadata": {},
     "output_type": "execute_result"
    }
   ],
   "source": [
    "event_dfs[0][['RXMDX','RXSFX']].sum()"
   ]
  },
  {
   "cell_type": "markdown",
   "id": "19728fb8",
   "metadata": {},
   "source": [
    "### spend by insurance"
   ]
  },
  {
   "cell_type": "code",
   "execution_count": 131,
   "id": "94def3b1",
   "metadata": {},
   "outputs": [
    {
     "data": {
      "text/plain": [
       "np.float64(123949473363.08398)"
      ]
     },
     "execution_count": 131,
     "metadata": {},
     "output_type": "execute_result"
    }
   ],
   "source": [
    "events_22 = all_events[all_events['year']=='2022']\n",
    "events_22[events_22['variable'].str.contains('SFX')]['value'].sum()\n",
    "events_22[events_22['variable']=='RXXPX']['value'].sum()"
   ]
  }
 ],
 "metadata": {
  "kernelspec": {
   "display_name": "Python 3",
   "language": "python",
   "name": "python3"
  },
  "language_info": {
   "codemirror_mode": {
    "name": "ipython",
    "version": 3
   },
   "file_extension": ".py",
   "mimetype": "text/x-python",
   "name": "python",
   "nbconvert_exporter": "python",
   "pygments_lexer": "ipython3",
   "version": "3.12.10"
  }
 },
 "nbformat": 4,
 "nbformat_minor": 5
}
