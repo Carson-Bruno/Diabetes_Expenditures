{
 "cells": [
  {
   "cell_type": "code",
   "execution_count": null,
   "id": "561c0ed6",
   "metadata": {},
   "outputs": [],
   "source": [
    "import pandas as pd\n",
    "import numpy as np\n",
    "import regex as re\n",
    "from pathlib import Path\n",
    "import glob\n"
   ]
  },
  {
   "cell_type": "markdown",
   "id": "2c94706b",
   "metadata": {},
   "source": [
    "## Load Data"
   ]
  },
  {
   "cell_type": "code",
   "execution_count": 3,
   "id": "731975b6",
   "metadata": {},
   "outputs": [],
   "source": [
    "def file_paths_and_names(year):\n",
    "    p = Path('data')\n",
    "    files = list(p.glob(f\"*_{year}.csv\"))\n",
    "    file_names = [re.findall(r'[a-zA-Z]+', i.stem)[0] for i in files]\n",
    "    # print(file_names)\n",
    "    file_paths = [i for i in files]\n",
    "    return file_names,file_paths\n",
    "years = ['19', '20', '21', '22', '23']\n",
    "files_by_year = {year: dict(zip(*file_paths_and_names(year))) for year in years}\n"
   ]
  },
  {
   "cell_type": "code",
   "execution_count": 82,
   "id": "99d81752",
   "metadata": {},
   "outputs": [],
   "source": [
    "def load_eventlink_file(file,year):\n",
    "    return pd.read_csv(file,usecols=['DUPERSID','CONDIDX','EVNTIDX','EVENTYPE'])"
   ]
  },
  {
   "cell_type": "code",
   "execution_count": 5,
   "id": "41b225eb",
   "metadata": {},
   "outputs": [],
   "source": [
    "def load_prescription_file(file,year):\n",
    "    tot_exp = 'RXXP'+year+'X'\n",
    "    oop_doc = 'RXSF'+year+'X'\n",
    "    mdcare_doc = 'RXMR'+year+'X'\n",
    "    mdcaid_doc = 'RXMD'+year+'X'\n",
    "    priv_doc = 'RXPV'+year+'X'\n",
    "    WT = 'PERWT'+year+'F'\n",
    "    return pd.read_csv(file,usecols=['DUPERSID','RXRECIDX','LINKIDX','TC1S1_1','DIABEQUIP',tot_exp,oop_doc,mdcare_doc,mdcaid_doc,priv_doc,WT])\n"
   ]
  },
  {
   "cell_type": "code",
   "execution_count": 6,
   "id": "6399e00f",
   "metadata": {},
   "outputs": [],
   "source": [
    "def load_conditions_file(file,year):\n",
    "    WT = 'PERWT'+year+'F'\n",
    "    return pd.read_csv(file,usecols = ['DUPERSID','CONDIDX','ICD10CDX',WT])"
   ]
  },
  {
   "cell_type": "code",
   "execution_count": 7,
   "id": "63067523",
   "metadata": {},
   "outputs": [],
   "source": [
    "def load_inpatient_file(file,year):\n",
    "    tot_exp = 'IPXP'+year+'X'\n",
    "    oop_doc = 'IPDSF'+year+'X'\n",
    "    oop_fac = 'IPFSF'+year+'X'\n",
    "    mdcare_doc = 'IPDMR'+year+'X'\n",
    "    mdcaid_doc = 'IPDMD'+year+'X'\n",
    "    priv_doc = 'IPDPV'+year+'X'\n",
    "    mdcare_fac = 'IPFMR'+year+'X'\n",
    "    mdcaid_fac = 'IPFMD'+year+'X'\n",
    "    priv_fac = 'IPFPV'+year+'X'\n",
    "    WT = 'PERWT'+year+'F'\n",
    "    return pd.read_csv(file,usecols=['DUPERSID','EVNTIDX',tot_exp,oop_doc,oop_fac,mdcare_doc,mdcare_fac,mdcaid_doc,mdcaid_fac,priv_doc,priv_fac,WT])"
   ]
  },
  {
   "cell_type": "code",
   "execution_count": 8,
   "id": "628fc180",
   "metadata": {},
   "outputs": [],
   "source": [
    "def load_outpatient_file(file,year):\n",
    "    tot_exp = 'OPXP'+year+'X'\n",
    "    oop_doc = 'OPDSF'+year+'X'\n",
    "    oop_fac = 'OPFSF'+year+'X'\n",
    "    mdcare_doc = 'OPDMR'+year+'X'\n",
    "    mdcaid_doc = 'OPDMD'+year+'X'\n",
    "    priv_doc = 'OPDPV'+year+'X'\n",
    "    mdcare_fac = 'OPFMR'+year+'X'\n",
    "    mdcaid_fac = 'OPFMD'+year+'X'\n",
    "    priv_fac = 'OPFPV'+year+'X'\n",
    "    WT = 'PERWT'+year+'F'\n",
    "    return pd.read_csv(file,usecols=['DUPERSID','EVNTIDX',tot_exp,oop_doc,oop_fac,mdcare_doc,mdcare_fac,mdcaid_doc,mdcaid_fac,priv_doc,priv_fac,WT])\n"
   ]
  },
  {
   "cell_type": "code",
   "execution_count": 9,
   "id": "5e0d5df0",
   "metadata": {},
   "outputs": [],
   "source": [
    "def load_er_file(file,year):\n",
    "    tot_exp = 'ERXP'+year+'X'\n",
    "    oop_doc = 'ERDSF'+year+'X'\n",
    "    oop_fac = 'ERFSF'+year+'X'\n",
    "    mdcare_doc = 'ERDMR'+year+'X'\n",
    "    mdcaid_doc = 'ERDMD'+year+'X'\n",
    "    priv_doc = 'ERDPV'+year+'X'\n",
    "    mdcare_fac = 'ERFMR'+year+'X'\n",
    "    mdcaid_fac = 'ERFMD'+year+'X'\n",
    "    priv_fac = 'ERFPV'+year+'X'\n",
    "    WT = 'PERWT'+year+'F'\n",
    "    return pd.read_csv(file,usecols=['DUPERSID','EVNTIDX',tot_exp,oop_doc,oop_fac,mdcare_doc,mdcare_fac,mdcaid_doc,mdcaid_fac,priv_doc,priv_fac,WT])"
   ]
  },
  {
   "cell_type": "code",
   "execution_count": 10,
   "id": "3cfde308",
   "metadata": {},
   "outputs": [],
   "source": [
    "def load_office_file(file,year):\n",
    "    tot_exp = 'OBXP'+year+'X'\n",
    "    oop_doc = 'OBSF'+year+'X'\n",
    "    mdcare_doc = 'OBMR'+year+'X'\n",
    "    mdcaid_doc = 'OBMD'+year+'X'\n",
    "    priv_doc = 'OBPV'+year+'X'\n",
    "    WT = 'PERWT'+year+'F'\n",
    "    return pd.read_csv(file,usecols=['DUPERSID','EVNTIDX',tot_exp,oop_doc,mdcare_doc,mdcaid_doc,priv_doc,WT])"
   ]
  },
  {
   "cell_type": "code",
   "execution_count": 11,
   "id": "70a4dd96",
   "metadata": {},
   "outputs": [],
   "source": [
    "def load_home_file(file,year):\n",
    "    tot_exp = 'HHXP'+year+'X'\n",
    "    oop_doc = 'HHSF'+year+'X'\n",
    "    mdcare_doc = 'HHMR'+year+'X'\n",
    "    mdcaid_doc = 'HHMD'+year+'X'\n",
    "    priv_doc = 'HHPV'+year+'X'\n",
    "    WT = 'PERWT'+year+'F'\n",
    "    return pd.read_csv(file,usecols=['DUPERSID','EVNTIDX',tot_exp,oop_doc,mdcare_doc,mdcaid_doc,priv_doc,WT])   "
   ]
  },
  {
   "cell_type": "code",
   "execution_count": 12,
   "id": "55ecb6b0",
   "metadata": {},
   "outputs": [],
   "source": [
    "def load_fyc(file,year):\n",
    "    tot_exp = 'TOTEXP'+year\n",
    "    return pd.read_csv(file,usecols=['DUPERSID',tot_exp])"
   ]
  },
  {
   "cell_type": "code",
   "execution_count": 13,
   "id": "1a1929f8",
   "metadata": {},
   "outputs": [],
   "source": [
    "def rename_cols(df):\n",
    "    old_cols = df.columns\n",
    "    new_cols = [re.sub('[0-9]','',i) for i in old_cols]\n",
    "    return df.rename(columns=dict(zip(old_cols,new_cols)))"
   ]
  },
  {
   "cell_type": "code",
   "execution_count": 15,
   "id": "80c19eec",
   "metadata": {},
   "outputs": [],
   "source": [
    "def load_all_files(year):\n",
    "    cond =  rename_cols(load_conditions_file(files_by_year[year]['conditions'],year))\n",
    "    out = rename_cols(load_outpatient_file(files_by_year[year]['outpatient'],year))\n",
    "    prescription =  rename_cols(load_prescription_file(files_by_year[year]['prescriptions'],year)) \n",
    "    inpatient =  rename_cols(load_inpatient_file(files_by_year[year]['inpatient'],year))    \n",
    "    home =  rename_cols(load_home_file(files_by_year[year]['home'],year))   \n",
    "    office =  rename_cols(load_office_file(files_by_year[year]['office'],year))\n",
    "    er =  rename_cols(load_er_file(files_by_year[year]['er'],year)) \n",
    "    eventlink = load_eventlink_file(files_by_year[year]['eventlink'],year)\n",
    "    fyc = rename_cols(load_fyc(files_by_year[year]['fyc'],year))\n",
    "    return [cond,out,prescription,inpatient,home,office,er,eventlink,fyc]\n",
    "      "
   ]
  },
  {
   "cell_type": "code",
   "execution_count": null,
   "id": "760768a6",
   "metadata": {},
   "outputs": [],
   "source": [
    "#load all files into dataframes and store in dictionary by year and event type \n",
    "dfs_by_year = {}\n",
    "df_names = ['cond','out','prescription','inpatient','home','office','er','eventlink','fyc']\n",
    "for year in years:\n",
    "    dfs_by_year[year] = dict(zip(df_names,load_all_files(year)))\n"
   ]
  },
  {
   "cell_type": "markdown",
   "id": "a6c5c66e",
   "metadata": {},
   "source": [
    "## conditions"
   ]
  },
  {
   "cell_type": "code",
   "execution_count": null,
   "id": "b23415f6",
   "metadata": {},
   "outputs": [],
   "source": [
    "#Condition index and person weight for diabetes \n",
    "def condidx_diabetes(df):\n",
    "    diab_df = df[df['ICDCDX']=='E11'][['CONDIDX','PERWTF']]\n",
    "    diab_df['CONDIDX'] = diab_df['CONDIDX'].astype(str)\n",
    "    return diab_df\n"
   ]
  },
  {
   "cell_type": "code",
   "execution_count": 84,
   "id": "63d2c3fc",
   "metadata": {},
   "outputs": [],
   "source": [
    "def get_diabetes_conditions(year):\n",
    "    return condidx_diabetes(dfs_by_year[year]['cond'])\n",
    "cond_diab = {}\n",
    "for year in years:\n",
    "    cond_diab[year]=get_diabetes_conditions(year)"
   ]
  },
  {
   "cell_type": "markdown",
   "id": "e78ad926",
   "metadata": {},
   "source": [
    "## Process all events"
   ]
  },
  {
   "cell_type": "code",
   "execution_count": 85,
   "id": "74bdf061",
   "metadata": {},
   "outputs": [],
   "source": [
    "def create_event_diabetes(event,year):\n",
    "    df = dfs_by_year[year][event]\n",
    "    evntlnk = dfs_by_year[year]['eventlink']\n",
    "    evntlnk['EVNTIDX'] = evntlnk['EVNTIDX'].astype(str)\n",
    "    evntlnk['CONDIDX'] = evntlnk['CONDIDX'].astype(str)\n",
    "    # return cond_diab[year]\n",
    "    #use eventlink file to link conditions and prescriptions \n",
    "    evn_diabetes = pd.merge(left=evntlnk,right=cond_diab[year],on=['CONDIDX'])\n",
    "    df['EVNTIDX'] = df['EVNTIDX'].astype(str)\n",
    "    diabetes = pd.merge(left=evn_diabetes,right=df,on=['EVNTIDX','DUPERSID','PERWTF'])\n",
    "    return diabetes\n"
   ]
  },
  {
   "cell_type": "code",
   "execution_count": null,
   "id": "27ce02a2",
   "metadata": {},
   "outputs": [],
   "source": [
    "#links prescription dataset to diabetes conditions \n",
    "def create_prescription_diabetes(year):\n",
    "    evntlnk = dfs_by_year[year]['eventlink']\n",
    "    p_df = dfs_by_year[year]['prescription']\n",
    "    cond_df = cond_diab[year]\n",
    "    evntlnk['LINKIDX'] = evntlnk['EVNTIDX'].astype(str)\n",
    "    evntlnk['CONDIDX'] = evntlnk['CONDIDX'].astype(str)\n",
    "    \n",
    "    #use eventlink file to link conditions and prescriptions \n",
    "    evn_diabetes = pd.merge(left=evntlnk,right=cond_df,on=['CONDIDX'])\n",
    "    p_df['LINKIDX'] = p_df['LINKIDX'].astype(str)\n",
    "    p_diabetes = pd.merge(left=evn_diabetes,right=p_df,on=['LINKIDX','DUPERSID','PERWTF'])\n",
    "    return p_diabetes\n"
   ]
  },
  {
   "cell_type": "code",
   "execution_count": null,
   "id": "9d74d278",
   "metadata": {},
   "outputs": [],
   "source": [
    "def event_diabetes_person_sum(event,year):\n",
    "    \n",
    "    if event == 'prescription':\n",
    "        df = create_prescription_diabetes(year)\n",
    "    else:\n",
    "        df = create_event_diabetes(event,year)\n",
    "\n",
    "    col_sub = ['XPX','SFX','MRX','MDX','PVX']\n",
    "    all_cols = dfs_by_year[year][event].columns\n",
    "    payment_columns = all_cols[all_cols.str.contains('|'.join(col_sub))]\n",
    "    df[payment_columns] = df[payment_columns].apply(pd.to_numeric, errors='coerce')\n",
    "    # sum_payment_cols = dict(zip(payment_columns,['sum' for i in range(len(payment_columns))]))\n",
    "    sum_payments = df.groupby('DUPERSID',as_index=False)[payment_columns].sum()\n",
    "    # .agg(sum_payment_cols)\n",
    "\n",
    "    sum_payments= pd.merge(left = sum_payments, right= df[['DUPERSID','PERWTF']].drop_duplicates(), on='DUPERSID')\n",
    "    sum_payments[payment_columns] = sum_payments[payment_columns].multiply(sum_payments['PERWTF'],axis='index')\n",
    "    return sum_payments,payment_columns\n"
   ]
  },
  {
   "cell_type": "markdown",
   "id": "a1084d92",
   "metadata": {},
   "source": [
    "## Save Files"
   ]
  },
  {
   "cell_type": "code",
   "execution_count": null,
   "id": "570ec2e2",
   "metadata": {},
   "outputs": [],
   "source": [
    "#save all prescriptions associated with diabetes for all years,unweighted to analyze by prescription type later \n",
    "prescription_dfs = []\n",
    "for year in years:\n",
    "    p_df = create_prescription_diabetes(year)\n",
    "    p_df['year'] = '20'+year\n",
    "    p_df.drop(columns = ['EVNTIDX'],inplace=True)\n",
    "    prescription_dfs.append(p_df)\n",
    "unweighted_prescription_years = pd.concat(prescription_dfs,ignore_index=True)\n",
    "unweighted_prescription_years.to_csv('data/processed_data/unweighted_diabetes_prescriptions.csv',index=False)"
   ]
  },
  {
   "cell_type": "code",
   "execution_count": null,
   "id": "4d46c3d5",
   "metadata": {},
   "outputs": [],
   "source": [
    "#save weighted events and melt tables to tidy format \n",
    "events = ['out','inpatient','home','office','er','prescription']\n",
    "long_df = []\n",
    "for e in events:\n",
    "    event_dfs = []\n",
    "    for year in years:\n",
    "        event_df,payment_columns = event_diabetes_person_sum(e,year)\n",
    "        event_df['year'] = '20'+year\n",
    "        event_dfs.append(event_df)\n",
    "        l_df = pd.melt(event_df,id_vars=['DUPERSID','year','PERWTF'],value_vars=payment_columns)\n",
    "        long_df.append(l_df)\n",
    "    file_name = f\"weighted_{e}_sums\"\n",
    "    weighted_sums = pd.concat(event_dfs,ignore_index=True)\n",
    "    weighted_sums.to_csv(f'data/processed_data/{file_name}.csv',index=False)\n",
    "all_events = pd.concat(long_df,ignore_index=True)\n",
    "all_events.to_csv('data/processed_data/all_events.csv',index=False)\n",
    "    # print(file_name)\n",
    "    "
   ]
  },
  {
   "cell_type": "code",
   "execution_count": null,
   "id": "9c07e45f",
   "metadata": {},
   "outputs": [],
   "source": [
    "#save full year files \n",
    "fyc_dfs = []\n",
    "for year in years:\n",
    "    f_df = dfs_by_year[year]['fyc']\n",
    "    f_df['year'] = '20'+year\n",
    "    fyc_dfs.append(f_df)\n",
    "all_fycs = pd.concat(fyc_dfs,ignore_index=True)\n",
    "all_fycs.to_csv('data/processed_data/all_fycs.csv',index=False)"
   ]
  },
  {
   "cell_type": "markdown",
   "id": "1fb38ac4",
   "metadata": {},
   "source": [
    "## Analysis\n"
   ]
  },
  {
   "cell_type": "markdown",
   "id": "6d704a27",
   "metadata": {},
   "source": [
    "### Prescription spending totals"
   ]
  },
  {
   "cell_type": "code",
   "execution_count": null,
   "id": "f0967236",
   "metadata": {},
   "outputs": [
    {
     "name": "stdout",
     "output_type": "stream",
     "text": [
      "24242\n"
     ]
    },
    {
     "data": {
      "text/plain": [
       "np.float64(6520011226.207245)"
      ]
     },
     "execution_count": 95,
     "metadata": {},
     "output_type": "execute_result"
    }
   ],
   "source": [
    "#testing prescription payment totals \n",
    "p_d = create_prescription_diabetes('23')\n",
    "print(len(p_d))\n",
    "p_d = p_d[p_d['DIABEQUIP']==1]\n",
    "col_sub = ['XPX','SFX','MRX','MDX','PVX']\n",
    "all_cols = p_d.columns\n",
    "payment_columns = all_cols[all_cols.str.contains('|'.join(col_sub))]\n",
    "p_d[payment_columns] = p_d[payment_columns].apply(pd.to_numeric, errors='coerce')\n",
    "\n",
    "sum_payments = p_d.groupby('DUPERSID',as_index=False)[payment_columns].sum()\n",
    "sum_payments= pd.merge(left = sum_payments, right= p_d[['DUPERSID','PERWTF','TCS_']].drop_duplicates(), on='DUPERSID')\n",
    "sum_payments[payment_columns] = sum_payments[payment_columns].multiply(sum_payments['PERWTF'],axis='index')\n",
    "sum_payments\n",
    "\n",
    "sum_payments['RXXPX'].sum()"
   ]
  },
  {
   "cell_type": "markdown",
   "id": "822937b4",
   "metadata": {},
   "source": [
    "### avg per person spending over all events"
   ]
  },
  {
   "cell_type": "code",
   "execution_count": 110,
   "id": "4e6cafbb",
   "metadata": {},
   "outputs": [
    {
     "data": {
      "text/plain": [
       "np.float64(158904611041.54312)"
      ]
     },
     "execution_count": 110,
     "metadata": {},
     "output_type": "execute_result"
    }
   ],
   "source": [
    "# e_d,payment_columns = event_diabetes_person_sum('office','22')\n",
    "events = ['out','inpatient','home','office','er','prescription']\n",
    "df_22 = []\n",
    "wts_22 = []\n",
    "for event in events:\n",
    "    e_d,payment_columns = event_diabetes_person_sum(event,'22')\n",
    "    col_sub = ['XPX']\n",
    "    all_cols = e_d.columns\n",
    "    payment_columns = all_cols[all_cols.str.contains('|'.join(col_sub))]\n",
    "    sum_e = e_d[payment_columns].sum().sum()\n",
    "    wts_22.append(e_d[['DUPERSID','PERWTF']])\n",
    "    df_22.append(sum_e)\n",
    "# e_d.pivot(payment_columns)\n",
    "# pay = [i for i in payment_columns]\n",
    "# wts_22\n",
    "all_wts = pd.concat(wts_22,ignore_index=True)\n",
    "all_wts.drop_duplicates(subset=['DUPERSID'],inplace=True)\n",
    "sum_wts = all_wts['PERWTF'].sum()\n",
    "sum(df_22)/sum_wts\n",
    "sum(df_22)\n"
   ]
  },
  {
   "cell_type": "markdown",
   "id": "19728fb8",
   "metadata": {},
   "source": [
    "### spend by insurance"
   ]
  },
  {
   "cell_type": "code",
   "execution_count": 104,
   "id": "94def3b1",
   "metadata": {},
   "outputs": [
    {
     "data": {
      "text/plain": [
       "np.float64(10606505388.319036)"
      ]
     },
     "execution_count": 104,
     "metadata": {},
     "output_type": "execute_result"
    }
   ],
   "source": [
    "events_22 = all_events[all_events['year']=='2022']\n",
    "events_22[events_22['variable'].str.contains('SFX')]['value'].sum()"
   ]
  }
 ],
 "metadata": {
  "kernelspec": {
   "display_name": "Python 3",
   "language": "python",
   "name": "python3"
  },
  "language_info": {
   "codemirror_mode": {
    "name": "ipython",
    "version": 3
   },
   "file_extension": ".py",
   "mimetype": "text/x-python",
   "name": "python",
   "nbconvert_exporter": "python",
   "pygments_lexer": "ipython3",
   "version": "3.12.10"
  }
 },
 "nbformat": 4,
 "nbformat_minor": 5
}
